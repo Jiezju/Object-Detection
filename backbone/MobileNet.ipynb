{
 "cells": [
  {
   "cell_type": "markdown",
   "metadata": {},
   "source": [
    "### MobileNet_v1"
   ]
  },
  {
   "cell_type": "markdown",
   "metadata": {},
   "source": [
    "**创新点**\n",
    "\n",
    "1. 深度可分离卷积\n",
    "\n",
    "2. 提供两个超参数控制特征图通道以及特征图尺寸"
   ]
  },
  {
   "cell_type": "code",
   "execution_count": 16,
   "metadata": {
    "ExecuteTime": {
     "end_time": "2020-03-22T06:22:42.321870Z",
     "start_time": "2020-03-22T06:22:42.316884Z"
    }
   },
   "outputs": [],
   "source": [
    "import torch\n",
    "from torch import nn\n",
    "import torch.nn.functional as F"
   ]
  },
  {
   "cell_type": "code",
   "execution_count": 17,
   "metadata": {
    "ExecuteTime": {
     "end_time": "2020-03-22T06:22:42.708500Z",
     "start_time": "2020-03-22T06:22:42.703474Z"
    }
   },
   "outputs": [],
   "source": [
    "'''\n",
    "标准卷积类\n",
    "'''\n",
    "\n",
    "class Conv_bn(nn.Module):\n",
    "    def __init__(self,in_dim,out_dim,stride):\n",
    "        super(Conv_bn,self).__init__()\n",
    "        self.conv_bn=nn.Sequential(nn.Conv2d(in_dim,out_dim,kernel_size=3,stride=stride,padding=1,bias=False),\n",
    "                                  nn.BatchNorm2d(out_dim),\n",
    "                                  nn.ReLU(True))\n",
    "    def forward(self,x):\n",
    "        return self.conv_bn(x)"
   ]
  },
  {
   "cell_type": "code",
   "execution_count": 18,
   "metadata": {
    "ExecuteTime": {
     "end_time": "2020-03-22T06:22:43.169575Z",
     "start_time": "2020-03-22T06:22:43.161621Z"
    }
   },
   "outputs": [],
   "source": [
    "'''\n",
    "深度可分离卷积类\n",
    "'''\n",
    "\n",
    "class Conv_dw(nn.Module):\n",
    "    def __init__(self,in_dim,out_dim,stride):\n",
    "        super(Conv_dw,self).__init__()\n",
    "        self.conv_dw=nn.Sequential(nn.Conv2d(in_dim,in_dim,kernel_size=3,stride=stride,padding=1,groups=in_dim,bias=False),\n",
    "                                  nn.BatchNorm2d(in_dim),\n",
    "                                  nn.ReLU6(True),\n",
    "                                  nn.Conv2d(in_dim,out_dim,kernel_size=1,stride=1,padding=0,bias=False),\n",
    "                                  nn.BatchNorm2d(out_dim),\n",
    "                                  nn.ReLU6(True))\n",
    "    def forward(self,x):\n",
    "        return self.conv_dw(x)"
   ]
  },
  {
   "cell_type": "code",
   "execution_count": 19,
   "metadata": {
    "ExecuteTime": {
     "end_time": "2020-03-22T06:22:43.569852Z",
     "start_time": "2020-03-22T06:22:43.563868Z"
    }
   },
   "outputs": [],
   "source": [
    "class MobileNet_v1(nn.Module):\n",
    "    def __init__(self):\n",
    "        super(MobileNet_v1, self).__init__()\n",
    "\n",
    "        layers = []\n",
    "        layers += [Conv_bn(3, 32, 2),Conv_dw(32,64,1)]\n",
    "        in_planes = 64\n",
    "        for i in range(3):\n",
    "            layers += [Conv_dw(in_planes, 2 * in_planes,2),Conv_dw(2*in_planes,2*in_planes,1)]\n",
    "            in_planes *= 2\n",
    "        for i in range(4):\n",
    "            layers += [Conv_dw(512, 512, 1)]\n",
    "\n",
    "        layers += [\n",
    "            Conv_dw(512, 1024, 2),\n",
    "            Conv_dw(1024, 1024, 1),\n",
    "            nn.AvgPool2d(7)\n",
    "        ]\n",
    "\n",
    "        self.feature = nn.Sequential(*layers)\n",
    "        self.classifier = nn.Linear(1024, 1000)\n",
    "\n",
    "    def forward(self, x):\n",
    "        out = self.feature(x)\n",
    "        out = out.reshape(-1, 1024)\n",
    "        out = self.classifier(out)\n",
    "        y = F.softmax(out, dim=1)\n",
    "        return y"
   ]
  },
  {
   "cell_type": "code",
   "execution_count": 20,
   "metadata": {
    "ExecuteTime": {
     "end_time": "2020-03-22T06:22:43.996299Z",
     "start_time": "2020-03-22T06:22:43.949332Z"
    }
   },
   "outputs": [],
   "source": [
    "model=MobileNet_v1()"
   ]
  },
  {
   "cell_type": "code",
   "execution_count": 21,
   "metadata": {
    "ExecuteTime": {
     "end_time": "2020-03-22T06:22:44.433707Z",
     "start_time": "2020-03-22T06:22:44.428719Z"
    }
   },
   "outputs": [
    {
     "data": {
      "text/plain": [
       "MobileNet_v1(\n",
       "  (feature): Sequential(\n",
       "    (0): Conv_bn(\n",
       "      (conv_bn): Sequential(\n",
       "        (0): Conv2d(3, 32, kernel_size=(3, 3), stride=(2, 2), padding=(1, 1), bias=False)\n",
       "        (1): BatchNorm2d(32, eps=1e-05, momentum=0.1, affine=True, track_running_stats=True)\n",
       "        (2): ReLU(inplace)\n",
       "      )\n",
       "    )\n",
       "    (1): Conv_dw(\n",
       "      (conv_dw): Sequential(\n",
       "        (0): Conv2d(32, 32, kernel_size=(3, 3), stride=(1, 1), padding=(1, 1), groups=32, bias=False)\n",
       "        (1): BatchNorm2d(32, eps=1e-05, momentum=0.1, affine=True, track_running_stats=True)\n",
       "        (2): ReLU6(inplace)\n",
       "        (3): Conv2d(32, 64, kernel_size=(1, 1), stride=(1, 1), bias=False)\n",
       "        (4): BatchNorm2d(64, eps=1e-05, momentum=0.1, affine=True, track_running_stats=True)\n",
       "        (5): ReLU6(inplace)\n",
       "      )\n",
       "    )\n",
       "    (2): Conv_dw(\n",
       "      (conv_dw): Sequential(\n",
       "        (0): Conv2d(64, 64, kernel_size=(3, 3), stride=(2, 2), padding=(1, 1), groups=64, bias=False)\n",
       "        (1): BatchNorm2d(64, eps=1e-05, momentum=0.1, affine=True, track_running_stats=True)\n",
       "        (2): ReLU6(inplace)\n",
       "        (3): Conv2d(64, 128, kernel_size=(1, 1), stride=(1, 1), bias=False)\n",
       "        (4): BatchNorm2d(128, eps=1e-05, momentum=0.1, affine=True, track_running_stats=True)\n",
       "        (5): ReLU6(inplace)\n",
       "      )\n",
       "    )\n",
       "    (3): Conv_dw(\n",
       "      (conv_dw): Sequential(\n",
       "        (0): Conv2d(128, 128, kernel_size=(3, 3), stride=(1, 1), padding=(1, 1), groups=128, bias=False)\n",
       "        (1): BatchNorm2d(128, eps=1e-05, momentum=0.1, affine=True, track_running_stats=True)\n",
       "        (2): ReLU6(inplace)\n",
       "        (3): Conv2d(128, 128, kernel_size=(1, 1), stride=(1, 1), bias=False)\n",
       "        (4): BatchNorm2d(128, eps=1e-05, momentum=0.1, affine=True, track_running_stats=True)\n",
       "        (5): ReLU6(inplace)\n",
       "      )\n",
       "    )\n",
       "    (4): Conv_dw(\n",
       "      (conv_dw): Sequential(\n",
       "        (0): Conv2d(128, 128, kernel_size=(3, 3), stride=(2, 2), padding=(1, 1), groups=128, bias=False)\n",
       "        (1): BatchNorm2d(128, eps=1e-05, momentum=0.1, affine=True, track_running_stats=True)\n",
       "        (2): ReLU6(inplace)\n",
       "        (3): Conv2d(128, 256, kernel_size=(1, 1), stride=(1, 1), bias=False)\n",
       "        (4): BatchNorm2d(256, eps=1e-05, momentum=0.1, affine=True, track_running_stats=True)\n",
       "        (5): ReLU6(inplace)\n",
       "      )\n",
       "    )\n",
       "    (5): Conv_dw(\n",
       "      (conv_dw): Sequential(\n",
       "        (0): Conv2d(256, 256, kernel_size=(3, 3), stride=(1, 1), padding=(1, 1), groups=256, bias=False)\n",
       "        (1): BatchNorm2d(256, eps=1e-05, momentum=0.1, affine=True, track_running_stats=True)\n",
       "        (2): ReLU6(inplace)\n",
       "        (3): Conv2d(256, 256, kernel_size=(1, 1), stride=(1, 1), bias=False)\n",
       "        (4): BatchNorm2d(256, eps=1e-05, momentum=0.1, affine=True, track_running_stats=True)\n",
       "        (5): ReLU6(inplace)\n",
       "      )\n",
       "    )\n",
       "    (6): Conv_dw(\n",
       "      (conv_dw): Sequential(\n",
       "        (0): Conv2d(256, 256, kernel_size=(3, 3), stride=(2, 2), padding=(1, 1), groups=256, bias=False)\n",
       "        (1): BatchNorm2d(256, eps=1e-05, momentum=0.1, affine=True, track_running_stats=True)\n",
       "        (2): ReLU6(inplace)\n",
       "        (3): Conv2d(256, 512, kernel_size=(1, 1), stride=(1, 1), bias=False)\n",
       "        (4): BatchNorm2d(512, eps=1e-05, momentum=0.1, affine=True, track_running_stats=True)\n",
       "        (5): ReLU6(inplace)\n",
       "      )\n",
       "    )\n",
       "    (7): Conv_dw(\n",
       "      (conv_dw): Sequential(\n",
       "        (0): Conv2d(512, 512, kernel_size=(3, 3), stride=(1, 1), padding=(1, 1), groups=512, bias=False)\n",
       "        (1): BatchNorm2d(512, eps=1e-05, momentum=0.1, affine=True, track_running_stats=True)\n",
       "        (2): ReLU6(inplace)\n",
       "        (3): Conv2d(512, 512, kernel_size=(1, 1), stride=(1, 1), bias=False)\n",
       "        (4): BatchNorm2d(512, eps=1e-05, momentum=0.1, affine=True, track_running_stats=True)\n",
       "        (5): ReLU6(inplace)\n",
       "      )\n",
       "    )\n",
       "    (8): Conv_dw(\n",
       "      (conv_dw): Sequential(\n",
       "        (0): Conv2d(512, 512, kernel_size=(3, 3), stride=(1, 1), padding=(1, 1), groups=512, bias=False)\n",
       "        (1): BatchNorm2d(512, eps=1e-05, momentum=0.1, affine=True, track_running_stats=True)\n",
       "        (2): ReLU6(inplace)\n",
       "        (3): Conv2d(512, 512, kernel_size=(1, 1), stride=(1, 1), bias=False)\n",
       "        (4): BatchNorm2d(512, eps=1e-05, momentum=0.1, affine=True, track_running_stats=True)\n",
       "        (5): ReLU6(inplace)\n",
       "      )\n",
       "    )\n",
       "    (9): Conv_dw(\n",
       "      (conv_dw): Sequential(\n",
       "        (0): Conv2d(512, 512, kernel_size=(3, 3), stride=(1, 1), padding=(1, 1), groups=512, bias=False)\n",
       "        (1): BatchNorm2d(512, eps=1e-05, momentum=0.1, affine=True, track_running_stats=True)\n",
       "        (2): ReLU6(inplace)\n",
       "        (3): Conv2d(512, 512, kernel_size=(1, 1), stride=(1, 1), bias=False)\n",
       "        (4): BatchNorm2d(512, eps=1e-05, momentum=0.1, affine=True, track_running_stats=True)\n",
       "        (5): ReLU6(inplace)\n",
       "      )\n",
       "    )\n",
       "    (10): Conv_dw(\n",
       "      (conv_dw): Sequential(\n",
       "        (0): Conv2d(512, 512, kernel_size=(3, 3), stride=(1, 1), padding=(1, 1), groups=512, bias=False)\n",
       "        (1): BatchNorm2d(512, eps=1e-05, momentum=0.1, affine=True, track_running_stats=True)\n",
       "        (2): ReLU6(inplace)\n",
       "        (3): Conv2d(512, 512, kernel_size=(1, 1), stride=(1, 1), bias=False)\n",
       "        (4): BatchNorm2d(512, eps=1e-05, momentum=0.1, affine=True, track_running_stats=True)\n",
       "        (5): ReLU6(inplace)\n",
       "      )\n",
       "    )\n",
       "    (11): Conv_dw(\n",
       "      (conv_dw): Sequential(\n",
       "        (0): Conv2d(512, 512, kernel_size=(3, 3), stride=(1, 1), padding=(1, 1), groups=512, bias=False)\n",
       "        (1): BatchNorm2d(512, eps=1e-05, momentum=0.1, affine=True, track_running_stats=True)\n",
       "        (2): ReLU6(inplace)\n",
       "        (3): Conv2d(512, 512, kernel_size=(1, 1), stride=(1, 1), bias=False)\n",
       "        (4): BatchNorm2d(512, eps=1e-05, momentum=0.1, affine=True, track_running_stats=True)\n",
       "        (5): ReLU6(inplace)\n",
       "      )\n",
       "    )\n",
       "    (12): Conv_dw(\n",
       "      (conv_dw): Sequential(\n",
       "        (0): Conv2d(512, 512, kernel_size=(3, 3), stride=(2, 2), padding=(1, 1), groups=512, bias=False)\n",
       "        (1): BatchNorm2d(512, eps=1e-05, momentum=0.1, affine=True, track_running_stats=True)\n",
       "        (2): ReLU6(inplace)\n",
       "        (3): Conv2d(512, 1024, kernel_size=(1, 1), stride=(1, 1), bias=False)\n",
       "        (4): BatchNorm2d(1024, eps=1e-05, momentum=0.1, affine=True, track_running_stats=True)\n",
       "        (5): ReLU6(inplace)\n",
       "      )\n",
       "    )\n",
       "    (13): Conv_dw(\n",
       "      (conv_dw): Sequential(\n",
       "        (0): Conv2d(1024, 1024, kernel_size=(3, 3), stride=(1, 1), padding=(1, 1), groups=1024, bias=False)\n",
       "        (1): BatchNorm2d(1024, eps=1e-05, momentum=0.1, affine=True, track_running_stats=True)\n",
       "        (2): ReLU6(inplace)\n",
       "        (3): Conv2d(1024, 1024, kernel_size=(1, 1), stride=(1, 1), bias=False)\n",
       "        (4): BatchNorm2d(1024, eps=1e-05, momentum=0.1, affine=True, track_running_stats=True)\n",
       "        (5): ReLU6(inplace)\n",
       "      )\n",
       "    )\n",
       "    (14): AvgPool2d(kernel_size=7, stride=7, padding=0)\n",
       "  )\n",
       "  (classifier): Linear(in_features=1024, out_features=1000, bias=True)\n",
       ")"
      ]
     },
     "execution_count": 21,
     "metadata": {},
     "output_type": "execute_result"
    }
   ],
   "source": [
    "model"
   ]
  },
  {
   "cell_type": "code",
   "execution_count": 28,
   "metadata": {
    "ExecuteTime": {
     "end_time": "2020-03-21T07:10:29.269544Z",
     "start_time": "2020-03-21T07:10:28.839693Z"
    }
   },
   "outputs": [
    {
     "data": {
      "text/plain": [
       "torch.Size([1, 1000])"
      ]
     },
     "execution_count": 28,
     "metadata": {},
     "output_type": "execute_result"
    }
   ],
   "source": [
    "x=torch.randn(1,3,224,224)\n",
    "y=model(x)\n",
    "y.shape"
   ]
  },
  {
   "cell_type": "markdown",
   "metadata": {},
   "source": [
    "### MobileNet_v2"
   ]
  },
  {
   "cell_type": "markdown",
   "metadata": {},
   "source": [
    "**创新点**\n",
    "\n",
    "    1. 采用残差网络模型\n",
    "    \n",
    "    2. 去掉每个block最后一层的ReLU6，保持特征"
   ]
  },
  {
   "cell_type": "code",
   "execution_count": 27,
   "metadata": {
    "ExecuteTime": {
     "end_time": "2020-03-22T06:25:56.868212Z",
     "start_time": "2020-03-22T06:25:56.859226Z"
    }
   },
   "outputs": [],
   "source": [
    "class MobileNet_v2(nn.Module):\n",
    "    def __init__(self, in_dim, out_dim, stride,\n",
    "                 expand_ratio):  # expand_ratio 中间层扩展数量\n",
    "        super(MobileNet_v2, self).__init__()\n",
    "        self.stride = stride\n",
    "        # 中间通道计算\n",
    "        hidden_dim = round(expand_ratio * in_dim)\n",
    "\n",
    "        # 1*1卷积模块\n",
    "        self.conv = nn.Sequential(\n",
    "            nn.Conv2d(in_dim,\n",
    "                      hidden_dim,\n",
    "                      kernel_size=1,\n",
    "                      stride=1,\n",
    "                      padding=0,\n",
    "                      bias=False), nn.BatchNorm2d(hidden_dim), nn.ReLU6(True))\n",
    "\n",
    "        # 3*3 深度卷积模块\n",
    "        self.conv_dw = nn.Sequential(\n",
    "            nn.Conv2d(hidden_dim,\n",
    "                      hidden_dim,\n",
    "                      kernel_size=3,\n",
    "                      stride=stride,\n",
    "                      padding=1,\n",
    "                      groups=hidden_dim,\n",
    "                      bias=False), nn.BatchNorm2d(hidden_dim), nn.ReLU6(True))\n",
    "\n",
    "        # 1*1 线性层\n",
    "        self.linear = nn.Sequential(\n",
    "            nn.Conv2d(hidden_dim, out_dim, kernel_size=1, stride=1, padding=0),\n",
    "            nn.BatchNorm2d(out_dim), nn.ReLU6(True))\n",
    "\n",
    "    def forward(self, x):\n",
    "        out = self.conv(x)\n",
    "        out = self.conv_dw(out)\n",
    "        out = self.linear(out)\n",
    "        if self.stride == 2:\n",
    "            return out\n",
    "        else:\n",
    "            return out + x"
   ]
  },
  {
   "cell_type": "code",
   "execution_count": 28,
   "metadata": {
    "ExecuteTime": {
     "end_time": "2020-03-22T06:25:57.374745Z",
     "start_time": "2020-03-22T06:25:57.369713Z"
    }
   },
   "outputs": [],
   "source": [
    "model_=MobileNet_v2(24,24,1,6)"
   ]
  },
  {
   "cell_type": "code",
   "execution_count": 29,
   "metadata": {
    "ExecuteTime": {
     "end_time": "2020-03-22T06:25:57.832814Z",
     "start_time": "2020-03-22T06:25:57.827826Z"
    }
   },
   "outputs": [
    {
     "data": {
      "text/plain": [
       "MobileNet_v2(\n",
       "  (conv): Sequential(\n",
       "    (0): Conv2d(24, 144, kernel_size=(1, 1), stride=(1, 1), bias=False)\n",
       "    (1): BatchNorm2d(144, eps=1e-05, momentum=0.1, affine=True, track_running_stats=True)\n",
       "    (2): ReLU6(inplace)\n",
       "  )\n",
       "  (conv_dw): Sequential(\n",
       "    (0): Conv2d(144, 144, kernel_size=(3, 3), stride=(1, 1), padding=(1, 1), groups=144, bias=False)\n",
       "    (1): BatchNorm2d(144, eps=1e-05, momentum=0.1, affine=True, track_running_stats=True)\n",
       "    (2): ReLU6(inplace)\n",
       "  )\n",
       "  (linear): Sequential(\n",
       "    (0): Conv2d(144, 24, kernel_size=(1, 1), stride=(1, 1))\n",
       "    (1): BatchNorm2d(24, eps=1e-05, momentum=0.1, affine=True, track_running_stats=True)\n",
       "    (2): ReLU6(inplace)\n",
       "  )\n",
       ")"
      ]
     },
     "execution_count": 29,
     "metadata": {},
     "output_type": "execute_result"
    }
   ],
   "source": [
    "model_"
   ]
  },
  {
   "cell_type": "code",
   "execution_count": 30,
   "metadata": {
    "ExecuteTime": {
     "end_time": "2020-03-22T06:26:33.193217Z",
     "start_time": "2020-03-22T06:26:32.531308Z"
    }
   },
   "outputs": [
    {
     "data": {
      "text/plain": [
       "torch.Size([1, 24, 56, 56])"
      ]
     },
     "execution_count": 30,
     "metadata": {},
     "output_type": "execute_result"
    }
   ],
   "source": [
    "x=torch.randn(1,24,56,56)\n",
    "y=model_(x)\n",
    "y.shape"
   ]
  },
  {
   "cell_type": "code",
   "execution_count": null,
   "metadata": {},
   "outputs": [],
   "source": []
  }
 ],
 "metadata": {
  "kernelspec": {
   "display_name": "Python 3",
   "language": "python",
   "name": "python3"
  },
  "language_info": {
   "codemirror_mode": {
    "name": "ipython",
    "version": 3
   },
   "file_extension": ".py",
   "mimetype": "text/x-python",
   "name": "python",
   "nbconvert_exporter": "python",
   "pygments_lexer": "ipython3",
   "version": "3.7.0"
  }
 },
 "nbformat": 4,
 "nbformat_minor": 2
}
