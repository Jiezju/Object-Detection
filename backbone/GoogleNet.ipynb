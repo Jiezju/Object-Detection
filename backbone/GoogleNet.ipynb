{
 "cells": [
  {
   "cell_type": "markdown",
   "metadata": {},
   "source": [
    "### Inception v1"
   ]
  },
  {
   "cell_type": "code",
   "execution_count": 1,
   "metadata": {
    "ExecuteTime": {
     "end_time": "2020-01-23T15:07:08.358079Z",
     "start_time": "2020-01-23T15:07:01.538415Z"
    }
   },
   "outputs": [],
   "source": [
    "import torch\n",
    "from torch import nn\n",
    "import torch.nn.functional as F"
   ]
  },
  {
   "cell_type": "code",
   "execution_count": 2,
   "metadata": {
    "ExecuteTime": {
     "end_time": "2020-01-23T15:20:59.473447Z",
     "start_time": "2020-01-23T15:20:59.466477Z"
    }
   },
   "outputs": [],
   "source": [
    "# 定义包含conv和ReLU的基本卷积层\n",
    "class BasicConv2d(nn.Module):\n",
    "    def __init__(self, in_channels, out_channels, kernel_size, padding=0):\n",
    "        super(BasicConv2d, self).__init__()\n",
    "        self.conv = nn.Conv2d(in_channels,\n",
    "                              out_channels,\n",
    "                              kernel_size,\n",
    "                              padding=padding)\n",
    "\n",
    "    def forward(self, x):\n",
    "        x = self.conv(x)\n",
    "        return F.relu(x, inplace=True)\n",
    "\n",
    "\n",
    "class Inceptionv1(nn.Module):\n",
    "    def __init__(self, in_dim, hid_1_1, hid_2_1, hid_2_3, hid_3_1, out_3_5,\n",
    "                 out_4_1):\n",
    "        super(Inceptionv1, self).__init__()\n",
    "        self.branch1x1 = BasicConv2d(in_dim, hid_1_1, 1)\n",
    "        self.branch3x3 = nn.Sequential(\n",
    "            BasicConv2d(in_dim, hid_2_1, 1),\n",
    "            BasicConv2d(hid_2_1, hid_2_3, 3, padding=1))\n",
    "        self.branch5x5 = nn.Sequential(\n",
    "            BasicConv2d(in_dim, hid_3_1, 1),\n",
    "            BasicConv2d(hid_3_1, out_3_5, 5, padding=2))\n",
    "        self.branch_pool = nn.Sequential(nn.MaxPool2d(3, stride=1, padding=1),\n",
    "                                         BasicConv2d(in_dim, out_4_1, 1))\n",
    "\n",
    "    def forward(self, x):\n",
    "        b1 = self.branch1x1(x)\n",
    "        b2 = self.branch3x3(x)\n",
    "        b3 = self.branch5x5(x)\n",
    "        b4 = self.branch_pool(x)\n",
    "        output = torch.cat((b1, b2, b3, b4), dim=1)\n",
    "        return output"
   ]
  },
  {
   "cell_type": "code",
   "execution_count": 3,
   "metadata": {
    "ExecuteTime": {
     "end_time": "2020-01-23T15:22:28.304558Z",
     "start_time": "2020-01-23T15:22:27.995490Z"
    }
   },
   "outputs": [],
   "source": [
    "'''\n",
    "网络实例化\n",
    "'''\n",
    "\n",
    "net_inceptionv1 = Inceptionv1(3, 64, 32, 64, 64, 96, 32)"
   ]
  },
  {
   "cell_type": "code",
   "execution_count": 4,
   "metadata": {
    "ExecuteTime": {
     "end_time": "2020-01-23T15:22:35.413232Z",
     "start_time": "2020-01-23T15:22:35.401265Z"
    },
    "scrolled": true
   },
   "outputs": [
    {
     "data": {
      "text/plain": [
       "Inceptionv1(\n",
       "  (branch1x1): BasicConv2d(\n",
       "    (conv): Conv2d(3, 64, kernel_size=(1, 1), stride=(1, 1))\n",
       "  )\n",
       "  (branch3x3): Sequential(\n",
       "    (0): BasicConv2d(\n",
       "      (conv): Conv2d(3, 32, kernel_size=(1, 1), stride=(1, 1))\n",
       "    )\n",
       "    (1): BasicConv2d(\n",
       "      (conv): Conv2d(32, 64, kernel_size=(3, 3), stride=(1, 1), padding=(1, 1))\n",
       "    )\n",
       "  )\n",
       "  (branch5x5): Sequential(\n",
       "    (0): BasicConv2d(\n",
       "      (conv): Conv2d(3, 64, kernel_size=(1, 1), stride=(1, 1))\n",
       "    )\n",
       "    (1): BasicConv2d(\n",
       "      (conv): Conv2d(64, 96, kernel_size=(5, 5), stride=(1, 1), padding=(2, 2))\n",
       "    )\n",
       "  )\n",
       "  (branch_pool): Sequential(\n",
       "    (0): MaxPool2d(kernel_size=3, stride=1, padding=1, dilation=1, ceil_mode=False)\n",
       "    (1): BasicConv2d(\n",
       "      (conv): Conv2d(3, 32, kernel_size=(1, 1), stride=(1, 1))\n",
       "    )\n",
       "  )\n",
       ")"
      ]
     },
     "execution_count": 4,
     "metadata": {},
     "output_type": "execute_result"
    }
   ],
   "source": [
    "net_inceptionv1"
   ]
  },
  {
   "cell_type": "code",
   "execution_count": 6,
   "metadata": {
    "ExecuteTime": {
     "end_time": "2020-01-23T15:24:55.139043Z",
     "start_time": "2020-01-23T15:24:54.067942Z"
    }
   },
   "outputs": [
    {
     "data": {
      "text/plain": [
       "torch.Size([1, 256, 256, 256])"
      ]
     },
     "execution_count": 6,
     "metadata": {},
     "output_type": "execute_result"
    }
   ],
   "source": [
    "'''\n",
    "实例计算\n",
    "'''\n",
    "\n",
    "x = torch.randn(1, 3, 256, 256)\n",
    "y = net_inceptionv1(x)\n",
    "y.shape"
   ]
  },
  {
   "cell_type": "markdown",
   "metadata": {},
   "source": [
    "### Inception v2"
   ]
  },
  {
   "cell_type": "code",
   "execution_count": 7,
   "metadata": {
    "ExecuteTime": {
     "end_time": "2020-01-23T15:31:26.417690Z",
     "start_time": "2020-01-23T15:31:26.406747Z"
    }
   },
   "outputs": [],
   "source": [
    "# 定义卷积基础块，增加了bn层\n",
    "class BasicConv2d(nn.Module):\n",
    "    def __init__(self, in_channels, out_channels, kernel_size, padding=0):\n",
    "        super(BasicConv2d, self).__init__()\n",
    "        self.conv = nn.Conv2d(in_channels,\n",
    "                              out_channels,\n",
    "                              kernel_size,\n",
    "                              padding=padding)\n",
    "        self.bn = nn.BatchNorm2d(out_channels, eps=0.001)\n",
    "\n",
    "    def forward(self, x):\n",
    "        x = self.conv(x)\n",
    "        x = self.bn(x)\n",
    "        return F.relu(x, inplace=True)\n",
    "\n",
    "\n",
    "class Inceptionv2(nn.Module):\n",
    "    def __init__(self):\n",
    "        super(Inceptionv2, self).__init__()\n",
    "        self.branch1 = BasicConv2d(192, 96, 1, 0)\n",
    "        self.branch2 = nn.Sequential(BasicConv2d(192, 48, 1, 0),\n",
    "                                     BasicConv2d(48, 64, 3, 1))\n",
    "        self.branch3 = nn.Sequential(BasicConv2d(192, 64, 1, 0),\n",
    "                                     # 使用两个3X3代替5X5卷积核\n",
    "                                     BasicConv2d(64, 96, 3, 1),\n",
    "                                     BasicConv2d(96, 96, 3, 1))\n",
    "        self.branch4 = nn.Sequential(\n",
    "            nn.AvgPool2d(3, stride=1, padding=1, count_include_pad=False),\n",
    "            BasicConv2d(192, 64, 1, 0))\n",
    "\n",
    "    def forward(self, x):\n",
    "        x0 = self.branch1(x)\n",
    "        x1 = self.branch2(x)\n",
    "        x2 = self.branch3(x)\n",
    "        x3 = self.branch4(x)\n",
    "        out = torch.cat((x0, x1, x2, x3), 1)\n",
    "        return out"
   ]
  },
  {
   "cell_type": "code",
   "execution_count": 8,
   "metadata": {
    "ExecuteTime": {
     "end_time": "2020-01-23T15:33:26.266315Z",
     "start_time": "2020-01-23T15:33:26.064689Z"
    }
   },
   "outputs": [],
   "source": [
    "'''\n",
    "实例化Inception v2\n",
    "'''\n",
    "\n",
    "net_inceptionv2 = Inceptionv2()"
   ]
  },
  {
   "cell_type": "code",
   "execution_count": 9,
   "metadata": {
    "ExecuteTime": {
     "end_time": "2020-01-23T15:33:32.486549Z",
     "start_time": "2020-01-23T15:33:32.481589Z"
    },
    "scrolled": true
   },
   "outputs": [
    {
     "data": {
      "text/plain": [
       "Inceptionv2(\n",
       "  (branch1): BasicConv2d(\n",
       "    (conv): Conv2d(192, 96, kernel_size=(1, 1), stride=(1, 1))\n",
       "    (bn): BatchNorm2d(96, eps=0.001, momentum=0.1, affine=True, track_running_stats=True)\n",
       "  )\n",
       "  (branch2): Sequential(\n",
       "    (0): BasicConv2d(\n",
       "      (conv): Conv2d(192, 48, kernel_size=(1, 1), stride=(1, 1))\n",
       "      (bn): BatchNorm2d(48, eps=0.001, momentum=0.1, affine=True, track_running_stats=True)\n",
       "    )\n",
       "    (1): BasicConv2d(\n",
       "      (conv): Conv2d(48, 64, kernel_size=(3, 3), stride=(1, 1), padding=(1, 1))\n",
       "      (bn): BatchNorm2d(64, eps=0.001, momentum=0.1, affine=True, track_running_stats=True)\n",
       "    )\n",
       "  )\n",
       "  (branch3): Sequential(\n",
       "    (0): BasicConv2d(\n",
       "      (conv): Conv2d(192, 64, kernel_size=(1, 1), stride=(1, 1))\n",
       "      (bn): BatchNorm2d(64, eps=0.001, momentum=0.1, affine=True, track_running_stats=True)\n",
       "    )\n",
       "    (1): BasicConv2d(\n",
       "      (conv): Conv2d(64, 96, kernel_size=(3, 3), stride=(1, 1), padding=(1, 1))\n",
       "      (bn): BatchNorm2d(96, eps=0.001, momentum=0.1, affine=True, track_running_stats=True)\n",
       "    )\n",
       "    (2): BasicConv2d(\n",
       "      (conv): Conv2d(96, 96, kernel_size=(3, 3), stride=(1, 1), padding=(1, 1))\n",
       "      (bn): BatchNorm2d(96, eps=0.001, momentum=0.1, affine=True, track_running_stats=True)\n",
       "    )\n",
       "  )\n",
       "  (branch4): Sequential(\n",
       "    (0): AvgPool2d(kernel_size=3, stride=1, padding=1)\n",
       "    (1): BasicConv2d(\n",
       "      (conv): Conv2d(192, 64, kernel_size=(1, 1), stride=(1, 1))\n",
       "      (bn): BatchNorm2d(64, eps=0.001, momentum=0.1, affine=True, track_running_stats=True)\n",
       "    )\n",
       "  )\n",
       ")"
      ]
     },
     "execution_count": 9,
     "metadata": {},
     "output_type": "execute_result"
    }
   ],
   "source": [
    "net_inceptionv2"
   ]
  },
  {
   "cell_type": "code",
   "execution_count": 10,
   "metadata": {
    "ExecuteTime": {
     "end_time": "2020-01-23T15:34:58.190065Z",
     "start_time": "2020-01-23T15:34:57.870847Z"
    }
   },
   "outputs": [
    {
     "data": {
      "text/plain": [
       "torch.Size([1, 320, 32, 32])"
      ]
     },
     "execution_count": 10,
     "metadata": {},
     "output_type": "execute_result"
    }
   ],
   "source": [
    "'''\n",
    "实例计算\n",
    "'''\n",
    "\n",
    "x = torch.randn(1, 192, 32, 32)\n",
    "y = net_inceptionv2(x)\n",
    "y.shape"
   ]
  },
  {
   "cell_type": "code",
   "execution_count": null,
   "metadata": {},
   "outputs": [],
   "source": []
  }
 ],
 "metadata": {
  "kernelspec": {
   "display_name": "Python 3",
   "language": "python",
   "name": "python3"
  },
  "language_info": {
   "codemirror_mode": {
    "name": "ipython",
    "version": 3
   },
   "file_extension": ".py",
   "mimetype": "text/x-python",
   "name": "python",
   "nbconvert_exporter": "python",
   "pygments_lexer": "ipython3",
   "version": "3.7.0"
  }
 },
 "nbformat": 4,
 "nbformat_minor": 2
}
