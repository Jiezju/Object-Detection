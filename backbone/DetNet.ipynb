{
 "cells": [
  {
   "cell_type": "markdown",
   "metadata": {},
   "source": [
    "### DetNet"
   ]
  },
  {
   "cell_type": "code",
   "execution_count": 1,
   "metadata": {
    "ExecuteTime": {
     "end_time": "2020-01-25T05:20:23.736756Z",
     "start_time": "2020-01-25T05:20:23.732740Z"
    }
   },
   "outputs": [],
   "source": [
    "from torch import nn\n",
    "import torch"
   ]
  },
  {
   "cell_type": "code",
   "execution_count": 2,
   "metadata": {
    "ExecuteTime": {
     "end_time": "2020-01-25T05:27:19.577602Z",
     "start_time": "2020-01-25T05:27:19.567602Z"
    }
   },
   "outputs": [],
   "source": [
    "class DetBottleneck(nn.Module):\n",
    "    '''\n",
    "    extra关键字，为False时为Bottleneck A ，为 True 时则为 Bottleneck B\n",
    "    '''\n",
    "    def __init__(self, inplanes, planes, stride=1, extra=False):\n",
    "        super(DetBottleneck, self).__init__()\n",
    "\n",
    "        # 连续构建3个卷积层\n",
    "        self.bottleneck = nn.Sequential(\n",
    "            nn.Conv2d(inplanes, planes, 1, bias=False),\n",
    "            nn.BatchNorm2d(planes),\n",
    "            nn.ReLU(inplace=True),\n",
    "            nn.Conv2d(planes,\n",
    "                      planes,\n",
    "                      kernel_size=3,\n",
    "                      stride=1,\n",
    "                      padding=2,\n",
    "                      dilation=2,\n",
    "                      bias=False),\n",
    "            nn.BatchNorm2d(planes),\n",
    "            nn.ReLU(inplace=True),\n",
    "            nn.Conv2d(planes, planes, 1, bias=False),\n",
    "            nn.BatchNorm2d(planes),\n",
    "        )\n",
    "        self.relu = nn.ReLU(inplace=True)\n",
    "        self.extra = extra\n",
    "\n",
    "        # Bottleneck B 对应的 1X1 卷积\n",
    "        if self.extra:\n",
    "            self.extra_conv = nn.Sequential(\n",
    "                nn.Conv2d(inplanes, planes, 1, bias=False),\n",
    "                nn.BatchNorm2d(planes))\n",
    "\n",
    "    def forward(self, x):\n",
    "        if self.extra:\n",
    "            identity = self.extra_conv(x)\n",
    "        else:\n",
    "            identity = x\n",
    "        out = self.bottleneck(x)\n",
    "        out += identity\n",
    "        out = self.relu(out)\n",
    "        return out"
   ]
  },
  {
   "cell_type": "code",
   "execution_count": 3,
   "metadata": {
    "ExecuteTime": {
     "end_time": "2020-01-25T05:29:49.922255Z",
     "start_time": "2020-01-25T05:29:49.906300Z"
    }
   },
   "outputs": [],
   "source": [
    "'''\n",
    "构建一个 Stage 5 B-A-A结构\n",
    "'''\n",
    "\n",
    "bottleneck_b = DetBottleneck(1024, 256, 1, True)"
   ]
  },
  {
   "cell_type": "code",
   "execution_count": 4,
   "metadata": {
    "ExecuteTime": {
     "end_time": "2020-01-25T05:29:55.494912Z",
     "start_time": "2020-01-25T05:29:55.484937Z"
    }
   },
   "outputs": [
    {
     "data": {
      "text/plain": [
       "DetBottleneck(\n",
       "  (bottleneck): Sequential(\n",
       "    (0): Conv2d(1024, 256, kernel_size=(1, 1), stride=(1, 1), bias=False)\n",
       "    (1): BatchNorm2d(256, eps=1e-05, momentum=0.1, affine=True, track_running_stats=True)\n",
       "    (2): ReLU(inplace)\n",
       "    (3): Conv2d(256, 256, kernel_size=(3, 3), stride=(1, 1), padding=(2, 2), dilation=(2, 2), bias=False)\n",
       "    (4): BatchNorm2d(256, eps=1e-05, momentum=0.1, affine=True, track_running_stats=True)\n",
       "    (5): ReLU(inplace)\n",
       "    (6): Conv2d(256, 256, kernel_size=(1, 1), stride=(1, 1), bias=False)\n",
       "    (7): BatchNorm2d(256, eps=1e-05, momentum=0.1, affine=True, track_running_stats=True)\n",
       "  )\n",
       "  (relu): ReLU(inplace)\n",
       "  (extra_conv): Sequential(\n",
       "    (0): Conv2d(1024, 256, kernel_size=(1, 1), stride=(1, 1), bias=False)\n",
       "    (1): BatchNorm2d(256, eps=1e-05, momentum=0.1, affine=True, track_running_stats=True)\n",
       "  )\n",
       ")"
      ]
     },
     "execution_count": 4,
     "metadata": {},
     "output_type": "execute_result"
    }
   ],
   "source": [
    "bottleneck_b"
   ]
  },
  {
   "cell_type": "code",
   "execution_count": 5,
   "metadata": {
    "ExecuteTime": {
     "end_time": "2020-01-25T05:30:32.648945Z",
     "start_time": "2020-01-25T05:30:32.634978Z"
    }
   },
   "outputs": [],
   "source": [
    "bottleneck_a1 = DetBottleneck(256, 256)"
   ]
  },
  {
   "cell_type": "code",
   "execution_count": 6,
   "metadata": {
    "ExecuteTime": {
     "end_time": "2020-01-25T05:31:02.740492Z",
     "start_time": "2020-01-25T05:31:02.729522Z"
    }
   },
   "outputs": [],
   "source": [
    "bottleneck_a2 = DetBottleneck(256, 256)"
   ]
  },
  {
   "cell_type": "code",
   "execution_count": 7,
   "metadata": {
    "ExecuteTime": {
     "end_time": "2020-01-25T05:33:24.964544Z",
     "start_time": "2020-01-25T05:33:24.872777Z"
    }
   },
   "outputs": [
    {
     "data": {
      "text/plain": [
       "torch.Size([1, 256, 14, 14])"
      ]
     },
     "execution_count": 7,
     "metadata": {},
     "output_type": "execute_result"
    }
   ],
   "source": [
    "x=torch.randn(1,1024,14,14)\n",
    "y1=bottleneck_b(x)\n",
    "y2=bottleneck_a1(y1)\n",
    "y_out=bottleneck_a2(y2)\n",
    "y_out.shape"
   ]
  },
  {
   "cell_type": "code",
   "execution_count": null,
   "metadata": {},
   "outputs": [],
   "source": []
  }
 ],
 "metadata": {
  "kernelspec": {
   "display_name": "Python 3",
   "language": "python",
   "name": "python3"
  },
  "language_info": {
   "codemirror_mode": {
    "name": "ipython",
    "version": 3
   },
   "file_extension": ".py",
   "mimetype": "text/x-python",
   "name": "python",
   "nbconvert_exporter": "python",
   "pygments_lexer": "ipython3",
   "version": "3.7.0"
  }
 },
 "nbformat": 4,
 "nbformat_minor": 2
}
