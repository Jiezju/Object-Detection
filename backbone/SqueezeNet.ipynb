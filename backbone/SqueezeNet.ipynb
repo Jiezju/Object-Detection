{
 "cells": [
  {
   "cell_type": "markdown",
   "metadata": {},
   "source": [
    "### SqueezeNet"
   ]
  },
  {
   "cell_type": "code",
   "execution_count": 1,
   "metadata": {
    "ExecuteTime": {
     "end_time": "2020-03-20T07:08:21.005624Z",
     "start_time": "2020-03-20T07:08:21.001634Z"
    }
   },
   "outputs": [],
   "source": [
    "import torch\n",
    "from torch import nn\n",
    "import torch.functional as F"
   ]
  },
  {
   "cell_type": "code",
   "execution_count": 6,
   "metadata": {
    "ExecuteTime": {
     "end_time": "2020-03-20T07:20:59.561432Z",
     "start_time": "2020-03-20T07:20:59.555448Z"
    }
   },
   "outputs": [],
   "source": [
    "class SqueezeNet(nn.Module):\n",
    "    def __init__(self, inplanes, squeeze_planes, expand_planes):\n",
    "        super(SqueezeNet, self).__init__()\n",
    "        self.squeeze = nn.Sequential(\n",
    "            nn.Conv2d(inplanes, squeeze_planes, kernel_size=1, stride=1),\n",
    "            nn.BatchNorm2d(squeeze_planes), nn.ReLU(True))\n",
    "        self.Expand_1 = nn.Sequential(\n",
    "            nn.Conv2d(squeeze_planes, expand_planes, kernel_size=1, stride=1),\n",
    "            nn.BatchNorm2d(expand_planes))\n",
    "        self.Expand_2 = nn.Sequential(\n",
    "            nn.Conv2d(squeeze_planes,\n",
    "                      expand_planes,\n",
    "                      kernel_size=3,\n",
    "                      stride=1,\n",
    "                      padding=1), nn.BatchNorm2d(expand_planes))\n",
    "        self.relu = nn.ReLU(True)\n",
    "\n",
    "    def forward(self, x):\n",
    "        y1 = self.squeeze(x)\n",
    "        out1 = self.Expand_1(y1)\n",
    "        out2 = self.Expand_2(y1)\n",
    "\n",
    "        out = self.relu(torch.cat((out1, out2), 1))\n",
    "        return out"
   ]
  },
  {
   "cell_type": "code",
   "execution_count": 7,
   "metadata": {
    "ExecuteTime": {
     "end_time": "2020-03-20T07:20:59.994432Z",
     "start_time": "2020-03-20T07:20:59.979440Z"
    }
   },
   "outputs": [],
   "source": [
    "fire_block = SqueezeNet(512, 128, 512)"
   ]
  },
  {
   "cell_type": "code",
   "execution_count": 8,
   "metadata": {
    "ExecuteTime": {
     "end_time": "2020-03-20T07:21:00.344168Z",
     "start_time": "2020-03-20T07:21:00.336016Z"
    }
   },
   "outputs": [
    {
     "data": {
      "text/plain": [
       "SqueezeNet(\n",
       "  (squeeze): Sequential(\n",
       "    (0): Conv2d(512, 128, kernel_size=(1, 1), stride=(1, 1))\n",
       "    (1): BatchNorm2d(128, eps=1e-05, momentum=0.1, affine=True, track_running_stats=True)\n",
       "    (2): ReLU(inplace)\n",
       "  )\n",
       "  (Expand_1): Sequential(\n",
       "    (0): Conv2d(128, 512, kernel_size=(1, 1), stride=(1, 1))\n",
       "    (1): BatchNorm2d(512, eps=1e-05, momentum=0.1, affine=True, track_running_stats=True)\n",
       "  )\n",
       "  (Expand_2): Sequential(\n",
       "    (0): Conv2d(128, 512, kernel_size=(3, 3), stride=(1, 1), padding=(1, 1))\n",
       "    (1): BatchNorm2d(512, eps=1e-05, momentum=0.1, affine=True, track_running_stats=True)\n",
       "  )\n",
       "  (relu): ReLU(inplace)\n",
       ")"
      ]
     },
     "execution_count": 8,
     "metadata": {},
     "output_type": "execute_result"
    }
   ],
   "source": [
    "fire_block"
   ]
  },
  {
   "cell_type": "code",
   "execution_count": 9,
   "metadata": {
    "ExecuteTime": {
     "end_time": "2020-03-20T07:21:00.882958Z",
     "start_time": "2020-03-20T07:21:00.731219Z"
    }
   },
   "outputs": [
    {
     "data": {
      "text/plain": [
       "torch.Size([1, 1024, 28, 28])"
      ]
     },
     "execution_count": 9,
     "metadata": {},
     "output_type": "execute_result"
    }
   ],
   "source": [
    "x = torch.randn(1, 512, 28, 28)\n",
    "y = fire_block(x)\n",
    "y.shape"
   ]
  },
  {
   "cell_type": "code",
   "execution_count": null,
   "metadata": {},
   "outputs": [],
   "source": []
  }
 ],
 "metadata": {
  "kernelspec": {
   "display_name": "Python 3",
   "language": "python",
   "name": "python3"
  },
  "language_info": {
   "codemirror_mode": {
    "name": "ipython",
    "version": 3
   },
   "file_extension": ".py",
   "mimetype": "text/x-python",
   "name": "python",
   "nbconvert_exporter": "python",
   "pygments_lexer": "ipython3",
   "version": "3.7.0"
  }
 },
 "nbformat": 4,
 "nbformat_minor": 2
}
