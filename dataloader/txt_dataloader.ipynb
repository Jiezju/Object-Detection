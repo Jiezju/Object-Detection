{
 "cells": [
  {
   "cell_type": "markdown",
   "metadata": {},
   "source": [
    "## TxT文件的DataLoader"
   ]
  },
  {
   "cell_type": "markdown",
   "metadata": {},
   "source": [
    "### txt 文件格式\n",
    "\n",
    "![](./img/2.png)\n",
    "\n",
    "image_id bbox class"
   ]
  },
  {
   "cell_type": "code",
   "execution_count": 1,
   "metadata": {
    "ExecuteTime": {
     "end_time": "2021-10-16T13:33:52.368814Z",
     "start_time": "2021-10-16T13:33:51.914397Z"
    }
   },
   "outputs": [],
   "source": [
    "import torch\n",
    "import torch.utils.data as data"
   ]
  },
  {
   "cell_type": "code",
   "execution_count": 2,
   "metadata": {
    "ExecuteTime": {
     "end_time": "2021-10-16T14:19:00.475738Z",
     "start_time": "2021-10-16T14:19:00.447712Z"
    }
   },
   "outputs": [],
   "source": [
    "import os\n",
    "import cv2\n",
    "\n",
    "class TxTDataset(data.Dataset):\n",
    "    def __init__(self, img_root, txt_file, train, transform, input_size):\n",
    "        '''\n",
    "        Args:\n",
    "          root: (str) ditectory to images.\n",
    "          list_file: (str) path to index file.\n",
    "          train: (boolean) train or test.\n",
    "          transform: ([transforms]) image transforms.\n",
    "          input_size: (int) model input size.\n",
    "        '''\n",
    "        self._img_root = img_root\n",
    "        self._txt_file = txt_file\n",
    "        self._train = train\n",
    "        self._transform = transform\n",
    "        self._input_size = input_size\n",
    "        \n",
    "        # 数据列表\n",
    "        self._fnames = [] # 存储图像 id 列表\n",
    "        self._boxes = [] # 存储 bbox 列表\n",
    "        self._labels = [] # 存储 labels 列表\n",
    "        self._num_samples = 0\n",
    "        \n",
    "        self._data_accumulate()\n",
    "    \n",
    "    def _data_accumulate(self):\n",
    "        with open(list_file) as f:\n",
    "            lines = f.readlines()\n",
    "            self.num_samples = len(lines)\n",
    "\n",
    "        for line in lines:\n",
    "            splited = line.strip().split()\n",
    "            self._fnames.append(splited[0])\n",
    "            num_boxes = (len(splited) - 1) // 5\n",
    "            box = []\n",
    "            label = []\n",
    "            for i in range(num_boxes):\n",
    "                xmin = splited[1+5*i]\n",
    "                ymin = splited[2+5*i]\n",
    "                xmax = splited[3+5*i]\n",
    "                ymax = splited[4+5*i]\n",
    "                c = splited[5+5*i]\n",
    "                box.append([float(xmin),float(ymin),float(xmax),float(ymax)])\n",
    "                label.append(int(c))\n",
    "            self._boxes.append(torch.Tensor(box))\n",
    "            self._labels.append(torch.LongTensor(label))\n",
    "    \n",
    "    def __getitem__(self, idx):\n",
    "        '''Load image.\n",
    "\n",
    "        Args:\n",
    "          idx: (int) image index.\n",
    "\n",
    "        Returns:\n",
    "          img: (tensor) image tensor.\n",
    "          loc_targets: (tensor) location targets.\n",
    "          cls_targets: (tensor) class label targets.\n",
    "        '''\n",
    "        # Load image and boxes.\n",
    "        fname = self._fnames[idx]\n",
    "        image = cv2.imread(os.path.join(self._img_root, fname), cv2.IMREAD_COLOR)\n",
    "        image = cv2.cvtColor(image, cv2.COLOR_BGR2RGB).astype(np.float32)\n",
    "        boxes = self.boxes[idx].clone()\n",
    "        labels = self.labels[idx]\n",
    "\n",
    "        # Data augmentation.\n",
    "        if self.transforms:\n",
    "            for i in range(10):\n",
    "                sample = self.transforms(**{\n",
    "                    'image': image,\n",
    "                    'bboxes': boxes,\n",
    "                    'labels': labels\n",
    "                })\n",
    "                if len(sample['bboxes']) > 0:\n",
    "                    image = sample['image']\n",
    "                    boxes = torch.stack(tuple(map(torch.tensor, zip(*sample['bboxes'])))).permute(1, 0)\n",
    "                    boxes[:, [0, 1, 2, 3]] = boxes[:, [1, 0, 3, 2]]  # yxyx: be warning\n",
    "                    break\n",
    "\n",
    "        return img, boxes, labels\n",
    "    \n",
    "    def __len__(self):\n",
    "        return self.num_samples\n",
    "    \n",
    "    def collate_fn(self, batch): # 加载一个batch的图片  [[img, boxes, labels],[img, boxes, labels]]\n",
    "        '''Pad images and encode targets.\n",
    "\n",
    "        As for images are of different sizes, we need to pad them to the same size.\n",
    "\n",
    "        Args:\n",
    "          batch: (list) of images, cls_targets, loc_targets.\n",
    "\n",
    "        Returns:\n",
    "          padded images, stacked cls_targets, stacked loc_targets.\n",
    "        '''\n",
    "        imgs = [x[0] for x in batch]\n",
    "        boxes = [x[1] for x in batch]\n",
    "        labels = [x[2] for x in batch]\n",
    "\n",
    "        h = w = self._input_size\n",
    "        num_imgs = len(imgs)\n",
    "        inputs = torch.zeros(num_imgs, 3, h, w) # 存储一个batch的图片\n",
    "\n",
    "        loc_targets = []\n",
    "        cls_targets = []\n",
    "        for i in range(num_imgs):\n",
    "            inputs[i] = imgs[i]\n",
    "            loc_targets.append(boxes[i])\n",
    "            cls_targets.append(labels[i])\n",
    "        return inputs, torch.stack(loc_targets), torch.stack(cls_targets)"
   ]
  },
  {
   "cell_type": "code",
   "execution_count": null,
   "metadata": {},
   "outputs": [],
   "source": []
  }
 ],
 "metadata": {
  "kernelspec": {
   "display_name": "Python 3",
   "language": "python",
   "name": "python3"
  },
  "language_info": {
   "codemirror_mode": {
    "name": "ipython",
    "version": 3
   },
   "file_extension": ".py",
   "mimetype": "text/x-python",
   "name": "python",
   "nbconvert_exporter": "python",
   "pygments_lexer": "ipython3",
   "version": "3.8.3"
  },
  "varInspector": {
   "cols": {
    "lenName": 16,
    "lenType": 16,
    "lenVar": 40
   },
   "kernels_config": {
    "python": {
     "delete_cmd_postfix": "",
     "delete_cmd_prefix": "del ",
     "library": "var_list.py",
     "varRefreshCmd": "print(var_dic_list())"
    },
    "r": {
     "delete_cmd_postfix": ") ",
     "delete_cmd_prefix": "rm(",
     "library": "var_list.r",
     "varRefreshCmd": "cat(var_dic_list()) "
    }
   },
   "types_to_exclude": [
    "module",
    "function",
    "builtin_function_or_method",
    "instance",
    "_Feature"
   ],
   "window_display": false
  }
 },
 "nbformat": 4,
 "nbformat_minor": 4
}
